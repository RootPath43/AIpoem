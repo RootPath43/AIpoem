{
 "cells": [
  {
   "cell_type": "code",
   "execution_count": 1,
   "id": "041d0188",
   "metadata": {},
   "outputs": [],
   "source": [
    "import tensorflow as tf\n",
    "from tensorflow.keras.preprocessing.sequence import pad_sequences\n",
    "from tensorflow.keras.layers import Embedding, LSTM, Dense, Bidirectional\n",
    "from tensorflow.keras.preprocessing.text import Tokenizer\n",
    "from tensorflow.keras.models import Sequential\n",
    "from tensorflow.keras.optimizers import Adam\n",
    "import numpy as np "
   ]
  },
  {
   "cell_type": "code",
   "execution_count": 2,
   "id": "d21c2dbd",
   "metadata": {},
   "outputs": [
    {
     "name": "stdout",
     "output_type": "stream",
     "text": [
      "{'bir': 1, 'kadar': 2, 'bu': 3, 'gibi': 4, 'ne': 5, 've': 6, 'o': 7, 'mı': 8, 'seni': 9, \"i̇stanbul'u\": 10, 'dinliyorum': 11, 'ben': 12, 'gözlerim': 13, 'kapalı': 14, 'bayım': 15, 'sen': 16, 'ya': 17, 'güzel': 18, 'ki': 19, 'beni': 20, 'her': 21, 'kadın': 22, 'sana': 23, 'i': 24, 'de': 25, 'biraz': 26, 'bana': 27, 'şu': 28, 'göğe': 29, 'bakalım': 30, 'diye': 31, 'pür': 32, 'üç': 33, 'ey': 34, 'benim': 35, 'doğduğum': 36, 'şey': 37, 'içinde': 38, 'mi': 39, 'ı': 40, 'geçen': 41, 'yıl': 42, 'boyunca': 43, 'aşk': 44, 'aradım': 45, 'kaldı': 46, 'et': 47, 'hüzünlü': 48, 'artık': 49, 'giden': 50, 'hiç': 51, 'senin': 52, 'gelir': 53, 'var': 54, 'nasıl': 55, 'şimdi': 56, 'sokaklarda': 57, 'kendini': 58, 'çok': 59, 'küçük': 60, 'ihtizaz': 61, 'öğrendim': 62, 'aşkı': 63, 'gün': 64, 'i̇şte': 65, 'öyle': 66, 'gitti': 67, 'bunu': 68, 'beyaz': 69, 'tut': 70, 'bebek': 71, 'köylerde': 72, 'yüzden': 73, 'düşünürken': 74, 'taşı': 75, 'içimde': 76, 'kuş': 77, 'sıcak': 78, 'kim': 79, 'bilir': 80, 'i̇nsan': 81, 'gözlerin': 82, 'kolay': 83, 'işte': 84, 'değil': 85, 'renk': 86, 'da': 87, 'herkes': 88, 'uyusun': 89, 'olsa': 90, 'eski': 91, 'yalnız': 92, 'yere': 93, 'vardı': 94, 'yer': 95, 'durma': 96, 'kuşlar': 97, 'şarkılar': 98, 'ay': 99, 'olur': 100, 'yaklaşır': 101, 'u': 102, 'diyorsunuz': 103, 'uzaklar': 104, 'siz': 105, 'kokan': 106, 'nerde': 107, 'akşam': 108, 'aşkın': 109, 'sevdiğin': 110, 'sessizce': 111, 'kol': 112, 'siyah': 113, 'son': 114, 'bekler': 115, 'birçok': 116, 'yok': 117, 'dudakların': 118, 'ellerin': 119, 'al': 120, 'ellerimi': 121, 'yoktu': 122, 'saçlarını': 123, 'yalnızlığı': 124, 'dudaklarım': 125, 'güzelsin': 126, 'anlat': 127, 'doğduğun': 128, 'çakıl': 129, 'ısınır': 130, 'gelincik': 131, 'sinsi': 132, 'erik': 133, 'başlar': 134, 'yumak': 135, 'süt': 136, 'yanar': 137, 'gidiyorsun': 138, 'için': 139, 'çizgi': 140, 'gözbebeklerin': 141, 'tutsa': 142, 'yıksa': 143, 'eder': 144, 'mutluluk': 145, 'gitmiş': 146, 'az': 147, 'seninle': 148, 'karanfil': 149, 'düşüyor': 150, 'tıkır': 151, 'derken': 152, 'elden': 153, 'bak': 154, 'birden': 155, 'kurtar': 156, 'duran': 157, 'evleri': 158, 'otobüs': 159, 'böyle': 160, 'iyi': 161, 'biz': 162, 'bırak': 163, 'zaman': 164, 'aldım': 165, 'kapattım': 166, 'hatırlat': 167, 'yavaş': 168, 'uzaklarda': 169, 'geçiyor': 170, 'sürü': 171, 'çığlık': 172, 'serin': 173, 'cıvıl': 174, 'dolu': 175, 'gül': 176, 'olmalı': 177, 'biliyorum': 178, 'ıslak': 179, 'kalbinin': 180, 'muttarid': 181, 'muhteriz': 182, 'darbeler': 183, 'kafeslerde': 184, 'camlarda': 185, 'nevha': 186, 'ger': 187, 'saz': 188, 'hep': 189, 'şeb': 190, 'yüz': 191, 'boş': 192, 'yı': 193, 'heves': 194, 'gevherin': 195, 'katreler': 196, 'damlarda': 197, 'yâr': 198, 'usanmaz': 199, 'akar': 200, 'sular': 201, 'bi': 202, 'katında': 203, 'gözyaşlarım': 204, 'bitse': 205, 'tesbih': 206, 'tanelerim': 207, 'yorgun': 208, 'okşadım': 209, 'bile': 210, 'ister': 211, 'uzaklara': 212, 'gittim': 213, 'zehir': 214, 'nedir': 215, 'bilmezsiniz': 216, 'yüzünde': 217, 'şiir': 218, 'olmasa': 219, 'gerek': 220, 'düşünmüştüm': 221, 'hayat': 222, 'bırakmak': 223, 'kendimin': 224, 'kötü': 225, 'eyvah': 226, 'ah': 227, 'yarab': 228, 'hoyrattır': 229, 'daima': 230, 'dalga': 231, 'güzelliğiyledir': 232, 'aşığın': 233, 'yalan': 234, 'çiçekler': 235, 'ömrün': 236, 'kar': 237, 'esen': 238, 'dallar': 239, 'olsun': 240, 'unutuş': 241, 'çoktan': 242, 'yakınsın': 243, 'güneşin': 244, 'değer': 245, 'hasret': 246, 'güçlü': 247, 'hissettiğin': 248, 'budur': 249, 'adam': 250, 'çocuk': 251, 'anılar': 252, 'demir': 253, 'almak': 254, 'günü': 255, 'gelmişse': 256, 'zamandan': 257, 'meçhule': 258, 'gemi': 259, 'kalkar': 260, 'limandan': 261, 'yolcusu': 262, 'yokmuş': 263, 'alır': 264, 'yol': 265, 'sallanmaz': 266, 'kalkışta': 267, 'mendil': 268, 'rıhtımda': 269, 'kalanlar': 270, 'seyahatten': 271, 'elemli': 272, 'günlerce': 273, 'ufka': 274, 'bakar': 275, 'gözleri': 276, 'nemli': 277, 'biçare': 278, 'gönüller': 279, 'gemidir': 280, 'hicranlı': 281, 'hayatın': 282, 'matemidir': 283, 'dünyada': 284, 'sevilmiş': 285, 'seven': 286, 'nafile': 287, 'bilmez': 288, 'sevgililer': 289, 'dönmeyecekler': 290, 'gidenin': 291, 'biri': 292, 'memnun': 293, 'yerinden': 294, 'seneler': 295, 'geçti': 296, 'dönen': 297, 'seferinden': 298, 'pembe': 299, 'ceviz': 300, 'ağaçları': 301, 'serinliğe': 302, 'hasretim': 303, 'okşa': 304, 'buğday': 305, 'tarlaları': 306, 'dağıt': 307, 'savur': 308, 'köyleri': 309, 'akşamları': 310, 'eşkıyalar': 311, 'basardı': 312, 'sevmem': 313, 'konuş': 314, 'kuzey': 315, 'rüzgârları': 316, 'eserdi': 317, 'çatlaktır': 318, 'öp': 319, 'türkiye': 320, 'aydınlık': 321, 'köyler': 322, 'güzeldi': 323, 'yerleri': 324, 'yüreğimin': 325, 'ucuna': 326, 'konar': 327, 'açılır': 328, 'ansızın': 329, 'kanar': 330, 'ağacı': 331, 'tepeden': 332, 'tırnağa': 333, 'donanır': 334, 'deliler': 335, 'dönmeğe': 336, 'döndükçe': 337, 'çözülür': 338, 'çözüldükçe': 339, 'ufalır': 340, 'küçülür': 341, 'çekirdeği': 342, 'henüz': 343, 'bağlamış': 344, 'masmavi': 345, 'kesilir': 346, 'ağzımda': 347, 'dokundukça': 348, 'işine': 349, 'yetişmek': 350, 'gözlerini': 351, 'ellerini': 352, 'neyin': 353, 'varsa': 354, 'toplayıp': 355, 'seferinde': 356, 'unutuyorsun': 357, 'termometrede': 358, 'yükselen': 359, 'nerelerde': 360, 'soğuyorsun': 361, 'gülen': 362, 'insan': 363, 'bakan': 364, 'tutar': 365, 'ayakta': 366, 'yerle': 367, 'gelirse': 368, 'onlardan': 369, 'çalışma': 370, 'gücü': 371, 'yaşama': 372, 'direnci': 373, 'kazanılması': 374, 'zor': 375, 'yitirilmesi': 376, 'açarsın': 377, 'mutluyum': 378, 'kaparsın': 379, 'elimden': 380, 'biliyor': 381, 'musun': 382, 'yaşıyorsun': 383, 'oysaki': 384, 'olmak': 385, 'örneğin': 386, 'rakı': 387, 'içiyoruz': 388, 'içimize': 389, 'ağaç': 390, 'işliyor': 391, 'yanımızda': 392, 'midemdi': 393, 'aklımdı': 394, 'kadarcık': 395, 'kalıyor': 396, 'karanfile': 397, 'eğilimlisin': 398, 'alıp': 399, 'veriyorum': 400, 'başkasına': 401, 'veriyorsun': 402, 'daha': 403, 'başkası': 404, 'mu': 405, 'yanındakine': 406, 'veriyor': 407, 'ele': 408, 'görüyorsun': 409, 'sevdayı': 410, 'büyütüyoruz': 411, 'değiniyorum': 412, 'ısınıyorum': 413, 'beyaza': 414, 'keser': 415, 'gibisine': 416, 'yedi': 417, 'birleşiyoruz': 418, 'i̇kimiz': 419, 'sevinebiliriz': 420, 'kaçamak': 421, 'ışıklardan': 422, 'şeker': 423, 'kamışlarından': 424, 'bebe': 425, 'dişlerinden': 426, 'güneşlerden': 427, 'yaban': 428, 'otlarından': 429, 'durmadan': 430, 'harcadığım': 431, 'gözlerimi': 432, 'aranıp': 433, 'korkak': 434, 'atla': 435, 'bunları': 436, 'falanca': 437, 'durağa': 438, 'geliriz': 439, 'i̇necek': 440, 'deriz': 441, 'durur': 442, 'ineriz': 443, 'karanlık': 444, 'afferin': 445, 'tanrıya': 446, 'oluyor': 447, 'hoşlanıyorum': 448, 'hırsızlar': 449, 'polisler': 450, 'açlar': 451, 'toklar': 452, 'uyutmam': 453, 'birde': 454, 'uyumam': 455, 'yokken': 456, 'oluruz': 457, 'uyumıyalım': 458, 'sarhoşuz': 459, 'öpüşürüz': 460, 'ellerinde': 461, 'bilmiyorum': 462, 'tuttukca': 463, 'güçleniyorum': 464, 'kalabalık': 465, 'oluyorum': 466, 'ağaçlar': 467, 'sularım': 468, 'ısınsın': 469, 'bakıyorum': 470, 'ısınıyor': 471, 'sunturlu': 472, 'getirdim': 473, 'sayısız': 474, 'penceren': 475, 'dönesin': 476, 'biner': 477, 'gideriz': 478, 'dönmiyeceğimiz': 479, 'beğen': 480, 'başka': 481, 'türlüsü': 482, 'güç': 483, 'ellerim': 484, 'yeter': 485, 'belliyelim': 486, 'yetsin': 487, 'ayırdım': 488, 'önce': 489, 'hafiften': 490, 'rüzgar': 491, 'esiyor': 492, 'sallanıyor': 493, 'yapraklar': 494, 'ağaçlarda': 495, 'sucuların': 496, 'durmayan': 497, 'çıngırakları': 498, 'yükseklerden': 499, 'ağlar': 500, 'çekiliyor': 501, 'dalyanlarda': 502, 'kadının': 503, 'suya': 504, 'değiyor': 505, 'ayakları': 506, 'kapalıçarşı': 507, 'mahmutpaşa': 508, 'güvercin': 509, 'avlular': 510, 'çekiç': 511, 'sesleri': 512, 'geliyor': 513, 'doklardan': 514, 'güzelim': 515, 'bahar': 516, 'rüzgarında': 517, 'ter': 518, 'kokuları': 519, 'başımda': 520, 'alemlerin': 521, 'sarhoşluğu': 522, 'loş': 523, 'kayıkhaneleriyle': 524, 'yalı': 525, 'dinmiş': 526, 'lodosların': 527, 'uğultusu': 528, 'yosma': 529, 'kaldırımdan': 530, 'küfürler': 531, 'türküler': 532, 'laf': 533, 'atmalar': 534, 'birşey': 535, 'elinden': 536, 'çırpınıyor': 537, 'eteklerinde': 538, 'alnın': 539, 'doğuyor': 540, 'fıstıkların': 541, 'arkasından': 542, 'vuruşundan': 543, 'anlıyorum': 544, 'anlatabilmek': 545, 'dembedem': 546, 'nagme': 547, 'seylabeler': 548, 'ağlaşır': 549, 'ufuk': 550, 'bulutlar': 551, 'karardıkça': 552, 'zerrata': 553, 'ağır': 554, 'muhtazır': 555, 'dalgalanmak': 556, 'bürür': 557, 'soğuk': 558, 'gölge': 559, 'etrafı': 560, 'numayan': 561, 'gündüzün': 562, 'nısf': 563, 'söner': 564, 'manzur': 565, 'olurken': 566, 'demin': 567, 'hayulası': 568, 'karşımda': 569, 'alemin': 570, 'açılmaz': 571, 'pencere': 572, 'bakıldıkça': 573, 'vahşet': 574, 'çöker': 575, 'yerlere': 576, 'geçer': 577, 'sokaktan': 578, 'hayalet': 579, 'şitaban': 580, 'puşide': 581, 'ser': 582, 'sabi': 583, 'dem': 584, 'leyl': 585, 'yadımda': 586, 'solgun': 587, 'tebah': 588, 'surur': 589, 'rıda': 590, 'saçaklarda': 591, 'hazindir': 592, 'pek': 593, 'susarlar': 594, 'uzaktan': 595, 'ulur': 596, 'köpek': 597, 'öter': 598, 'guş': 599, 'ruhumda': 600, 'enin': 601, 'boğuk': 602, 'tezad': 603, 'sukun': 604, 'tanın': 605, 'muttasıl': 606, 'nağme': 607, 'candan': 608, 'usandırdı': 609, 'cefâdan': 610, 'felekler': 611, 'yandı': 612, 'âhımdan': 613, 'murâdım': 614, 'şem’i': 615, 'yanmaz': 616, 'kamu': 617, 'bîmârına': 618, 'cânan': 619, 'devâ': 620, 'derd': 621, 'ihsan': 622, 'niçin': 623, 'kılmaz': 624, 'derman': 625, 'bîmâr': 626, 'sanmaz': 627, 'hicran': 628, 'cânım': 629, 'töker': 630, 'kan': 631, 'çeşm': 632, 'giryânım': 633, 'uyarır': 634, 'halkı': 635, 'efgaanım': 636, 'kara': 637, 'bahtım': 638, 'uyanmaz': 639, 'ruhsârına': 640, 'karşu': 641, 'gözümden': 642, 'kanlı': 643, 'su': 644, 'habîbim': 645, 'fasl': 646, 'güldür': 647, 'bulanmaz': 648, 'gamım': 649, 'pinhan': 650, 'dutardım': 651, 'dediler': 652, 'yâre': 653, 'kıl': 654, 'rûşen': 655, 'disem': 656, 'ol': 657, 'vefâ': 658, 'bilmem': 659, 'inanır': 660, 'inanmaz': 661, 'değilim': 662, 'mâil': 663, 'ettin': 664, 'aklımı': 665, 'zâil': 666, 'ta’neyleyen': 667, 'gaafil': 668, 'görgeç': 669, 'utanmaz': 670, 'fuzûlî': 671, 'rind': 672, 'şeydâdır': 673, 'hemişe': 674, 'halka': 675, 'rüsvâdır': 676, 'sorun': 677, 'sevdâdır': 678, 'sevdâdan': 679, 'alt': 680, 'uyumayı': 681, 'ranzanın': 682, 'üst': 683, 'çocukluğum': 684, 'kâğıttan': 685, 'gemiler': 686, 'yaptım': 687, 'kalbimden': 688, 'hiçbiri': 689, 'karşıya': 690, 'ulaşmazdı': 691, 'limanı': 692, 'olanın': 693, 'olmaz': 694, \"allah'la\": 695, 'samimi': 696, 'oldum': 697, 'havı': 698, 'dökülmüş': 699, 'yerlerine': 700, 'yüzümün': 701, 'büyük': 702, 'yamadım': 703, 'hayır': 704, 'yüzüme': 705, 'nur': 706, 'inmedi': 707, 'yüzüm': 708, 'nura': 709, 'indi': 710, 'saydım': 711, 'insanın': 712, 'doksan': 713, 'dokuz': 714, 'tane': 715, 'istemenin': 716, 'allahını': 717, 'bilirim': 718, 'balkona': 719, 'çamaşırlar': 720, 'asmay': 721, 'uçlarından': 722, 'çile': 723, 'damlardı': 724, 'güneşte': 725, 'nane': 726, 'kurutmayı': 727, 'acılarımın': 728, 'başını': 729, 'evcimen': 730, 'telaşlarla': 731, 'pardösüm': 732, 'oldu': 733, 'kaybolduğum': 734, 'kaybolmayı': 735, 'istedim': 736, 'gelmez': 737, 'gidersin': 738, 'aşktan': 739, 'anlar': 740, 'içtim': 741, 'acım': 742, 'hafiflesin': 743, 'çikolata': 744, 'yedim': 745, 'köşeye': 746, 'çekilip': 747, 'zehrimi': 748, 'alsın': 749, 'sizin': 750, 'bilmediğiniz': 751, 'bilmeyeceğiniz': 752, 'i̇lahiler': 753, 'oysa': 754, 'miraç': 755, 'gecelerinde': 756, 'peygamberin': 757, 'kanatlarında': 758, 'teselli': 759, 'birlikte': 760, 'inebileceğim': 761, 'dost': 762, 'uyuyan': 763, 'acılı': 764, 'kardeşimin': 765, 'yüzü': 766, 'dövmeli': 767, 'kadınların': 768, 'yüzümü': 769, 'ülkem': 770, 'olmayan': 771, 'ülkemi': 772, 'kayboluşumu': 773, 'bulmak': 774, 'ters': 775, 'kazaklar': 776, 'ördüm': 777, 'haroşa': 778, 'kimi': 779, 'öylesine': 780, 'yalnızdım': 781, 'derdimi': 782, 'annemin': 783, 'fotoğrafına': 784, 'anlattım': 785, 'annem': 786, 'kadındır': 787, 'ölüsünü': 788, 'şiirle': 789, 'yıkadım': 790, 'gölgeyi': 791, 'sevmek': 792, 'demektir': 793, 'öldüğü': 794, 'gece': 795, 'terliklerindeki': 796, 'izleri': 797, 'acının': 798, 'ortasında': 799, 'acısız': 800, 'olmayı': 801, 'kalbim': 802, 'ucu': 803, 'kararmış': 804, 'tahta': 805, 'kaşık': 806, 'gibiydi': 807, 'ucunu': 808, 'kenar': 809, 'mahallelere': 810, 'taşıdım': 811, 'orda': 812, 'durun': 813, 'islak': 814, 'unutulmuş': 815, 'taş': 816, 'bezi': 817, 'kalakaldım': 818, 'ucunda': 819, 'yırtık': 820, 'perişan': 821, 'bilirsiniz': 822, 'gönlüm': 823, 'zâr': 824, 'buradaydı': 825, 'ebede': 826, 'gelip': 827, 'ezelden': 828, 'haksar': 829, 'köşede': 830, 'tarumar': 831, 'baki': 832, 'enisi': 833, 'dilden': 834, 'beyrutta': 835, 'mezar': 836, 'bildir': 837, 'attı': 838, 'derde': 839, 'arayayım': 840, 'dil': 841, 'rübayı': 842, 'kimden': 843, 'sorayım': 844, 'nevayı': 845, 'derlerki': 846, 'unut': 847, 'aşnayı': 848, 'tutarak': 849, 'reh': 850, 'bekayı': 851, 'sığsın': 852, 'hayale': 853, 'hakikat': 854, 'görsün': 855, 'mü': 856, 'gözüm': 857, 'macerayı': 858, \"sür'atle\": 859, 'nasılda': 860, 'değişti': 861, 'halim': 862, 'almaz': 863, 'havsalam': 864, 'hayalim': 865, 'çık': 866, 'fatıma': 867, 'lahteden': 868, 'kıyam': 869, 'yanımdaki': 870, 'haline': 871, 'devam': 872, 'ketn': 873, 'etme': 874, 'razı': 875, 'söz': 876, 'isterim': 877, 'birsöz': 878, 'güller': 879, 'meyl': 880, 'ibtisam': 881, 'dağı': 882, 'dile': 883, 'çare': 884, 'bul': 885, 'meram': 886, 'tatlı': 887, 'bakışla': 888, 'gülüşle': 889, 'eyyamı': 890, 'hayatımı': 891, 'temam': 892, 'makber': 893, 'gördüğüm': 894, 'reva': 895, 'cay': 896, 'dilbe': 897, 'üzerleri': 898, 'saltanatıyla': 899, 'defa': 900, 'yalnızlığımızla': 901, 'doldurup': 902, 'yeri': 903, 'çığlığı': 904, 'bahçemizden': 905, 'el': 906, 'çıkarmaya': 907, 'bohçamızdan': 908, 'lavanta': 909, 'çiçeği': 910, 'kederleri': 911, 'üstüleri': 912, 'hücum': 913, 'edip': 914, 'pişmanlıklar': 915, 'unutuşun': 916, 'tunç': 917, 'kapısını': 918, 'zorlar': 919, 'ruh': 920, 'atılan': 921, 'oklarla': 922, 'delik': 923, 'deşik': 924, 'evdesin': 925, 'yolunu': 926, 'gözlüyor': 927, 'lamba': 928, 'merdiven': 929, 'susmuş': 930, 'ninnilerle': 931, 'gıcırdıyor': 932, 'beşik': 933, 'cümle': 934, 'yitikler': 935, 'mağluplar': 936, 'mahzunlar': 937, 'söylenmemiş': 938, 'kağıtlarda': 939, 'yarım': 940, 'bırakılmış': 941, 'yağmur': 942, 'sabaha': 943, 'karşı': 944, 'hatırlar': 945, 'camı': 946, 'açtığını': 947, 'bulut': 948, 'uçtuğunu': 949, 'çöküp': 950, 'peynir': 951, 'ekmek': 952, 'yediği': 953, 'bütün': 954, 'bunlar': 955, 'aşklar': 956, 'uçup': 957, 'yazla': 958, 'halay': 959, 'çeken': 960, 'kızlar': 961, 'misali': 962, 'kola': 963, 'sizler': 964, 'geçmiş': 965, 'etekleri': 966, 'i̇htiyar': 967, 'ağaçlı': 968, 'kuytu': 969, 'bahçelerden': 970, 'ışığı': 971, 'sürüklenip': 972, 'geceye': 973, 'bırakıp': 974, 'erkekleri': 975, 'salınan': 976, 'etekler': 977, 'fısıltıyla': 978, 'nazla': 979, 'ebedi': 980, 'dönüşünü': 981, 'yeminlerin': 982, 'tanığı': 983, 'olmayacak': 984, 'baharlar': 985, 'en': 986, 'türküsü': 987, 'aldanış': 988, 'aldan': 989, 'gelmiş': 990, 'ümitsiz': 991, 'kış': 992, 'garipsi': 993, 'ayak': 994, 'izi': 995, 'dönmeyen': 996, 'serptiği': 997, 'arasında': 998, 'parıltı': 999, 'görünüp': 1000, 'kaybolan': 1001, 'istersin': 1002, 'benden': 1003, 'saatinde': 1004, 'gülüşü': 1005, 'görülmemiş': 1006, 'ölümsüzsün': 1007, 'aynasında': 1008, 'hatıraların': 1009, 'uyanma': 1010, 'vaktinde': 1011, 'sensin': 1012, 'arasından': 1013, 'kapat': 1014, 'pencereni': 1015, 'derinliğine': 1016, 'çekmiş': 1017, 'deniz': 1018, 'çıkmaz': 1019, 'altından': 1020, 'dünya': 1021, 'duman': 1022, 'yükselir': 1023, 'gibidir': 1024, 'kederden': 1025, 'macerası': 1026, 'bitmiş': 1027, 'şeylerden': 1028, 'amansız': 1029, 'gecenle': 1030, 'yayıl': 1031, 'dört': 1032, 'yanıma': 1033, 'gamlardan': 1034, 'yerin': 1035, 'çektiği': 1036, 'ağırsın': 1037, 'kanatların': 1038, 'çırpındığı': 1039, 'hafif': 1040, 'attığı': 1041, 'canlısın': 1042, 'gözlerinin': 1043, 'uzağı': 1044, 'gördüğü': 1045, 'genç': 1046, 'sevdiklerin': 1047, 'iyisin': 1048, 'nefret': 1049, 'ettiklerin': 1050, 'olursa': 1051, 'kaşın': 1052, 'gözün': 1053, 'karşındakinin': 1054, 'gördüğüdür': 1055, 'rengin': 1056, 'yaşadıklarını': 1057, 'sayma': 1058, 'yaşadığın': 1059, 'sonuna': 1060, 'yaşarsan': 1061, 'yaşa': 1062, 'kadardır': 1063, 'gülebildiğin': 1064, 'mutlusun': 1065, 'üzülme': 1066, 'bil': 1067, 'ağladığın': 1068, 'güleceksin': 1069, 'sakın': 1070, 'bitti': 1071, 'sanma': 1072, 'şeyi': 1073, 'sevileceksin': 1074, 'doğuşundadır': 1075, 'doğanın': 1076, 'verdiği': 1077, 'karşındakine': 1078, 'verdiğin': 1079, 'insansın': 1080, 'söyleyeceksen': 1081, 'eğer': 1082, 'karşındaki': 1083, 'güvendiği': 1084, 'inansın': 1085, 'ışığındadır': 1086, 'sevgiliye': 1087, 'duyulan': 1088, 'sevgiline': 1089, 'kaldığın': 1090, 'ona': 1091, 'unutma': 1092, 'yagmurun': 1093, 'yağdığı': 1094, 'ıslaksın': 1095, 'ısıttığı': 1096, 'hissetiğin': 1097, 'yalnızsın': 1098, 'yaşamak': 1099, 'hatırladığın': 1100, 'yaşarsın': 1101, 'unuttuğunda': 1102, 'aldığın': 1103, 'nefes': 1104, 'üşürsün': 1105, 'karşındakini': 1106, 'unuttuğun': 1107, 'çabuk': 1108, 'unutulursun': 1109, 'çiçek': 1110, 'sulandığı': 1111, 'güzeldir': 1112, 'ötebildiği': 1113, 'sevimli': 1114, 'ağladığı': 1115, 'bebektir': 1116, 'herşeyi': 1117, 'öğrendiğin': 1118, 'bilirsin': 1119, 'öğren': 1120, 'sevilirsin': 1121, 'durakta': 1122, 'kişi': 1123, 'adamın': 1124, 'elleri': 1125, 'ceplerinde': 1126, 'çocuğun': 1127, 'elini': 1128, 'tutmuş': 1129}\n",
      "1130\n"
     ]
    }
   ],
   "source": [
    "tokenizer = Tokenizer()#tokenizer call\n",
    "file = open('poems.txt', encoding=\"utf8\")\n",
    "data = file.read()#read poem.txt(Turkish poems)\n",
    "\n",
    "corpus = data.lower().split(\"\\n\")#split words\n",
    "\n",
    "tokenizer.fit_on_texts(corpus)#turn words into token\n",
    "total_words = len(tokenizer.word_index) + 1\n",
    "\n",
    "print(tokenizer.word_index)\n",
    "print(total_words)\n"
   ]
  },
  {
   "cell_type": "code",
   "execution_count": 3,
   "id": "5001ca72",
   "metadata": {},
   "outputs": [],
   "source": [
    "input_sequences = []\n",
    "for line in corpus:\n",
    "    token_list = tokenizer.texts_to_sequences([line])[0]\n",
    "    for i in range(1, len(token_list)):\n",
    "        n_gram_sequence = token_list[:i+1]\n",
    "        input_sequences.append(n_gram_sequence)\n",
    "\n",
    "# pad sequences \n",
    "max_sequence_len = max([len(x) for x in input_sequences])\n",
    "input_sequences = np.array(pad_sequences(input_sequences, maxlen=max_sequence_len, padding='pre'))\n",
    "\n",
    "# create predictors and label\n",
    "xs, labels = input_sequences[:,:-1],input_sequences[:,-1]\n",
    "\n",
    "ys = tf.keras.utils.to_categorical(labels, num_classes=total_words)"
   ]
  },
  {
   "cell_type": "code",
   "execution_count": 4,
   "id": "0317ddd5",
   "metadata": {},
   "outputs": [
    {
     "name": "stdout",
     "output_type": "stream",
     "text": [
      "893\n",
      "1023\n",
      "875\n"
     ]
    }
   ],
   "source": [
    "#check out some of words token number\n",
    "print(tokenizer.word_index['makber'])\n",
    "print(tokenizer.word_index['yükselir'])\n",
    "print(tokenizer.word_index['razı'])"
   ]
  },
  {
   "cell_type": "code",
   "execution_count": 5,
   "id": "492b8e51",
   "metadata": {},
   "outputs": [
    {
     "name": "stdout",
     "output_type": "stream",
     "text": [
      "{'bir': 1, 'kadar': 2, 'bu': 3, 'gibi': 4, 'ne': 5, 've': 6, 'o': 7, 'mı': 8, 'seni': 9, \"i̇stanbul'u\": 10, 'dinliyorum': 11, 'ben': 12, 'gözlerim': 13, 'kapalı': 14, 'bayım': 15, 'sen': 16, 'ya': 17, 'güzel': 18, 'ki': 19, 'beni': 20, 'her': 21, 'kadın': 22, 'sana': 23, 'i': 24, 'de': 25, 'biraz': 26, 'bana': 27, 'şu': 28, 'göğe': 29, 'bakalım': 30, 'diye': 31, 'pür': 32, 'üç': 33, 'ey': 34, 'benim': 35, 'doğduğum': 36, 'şey': 37, 'içinde': 38, 'mi': 39, 'ı': 40, 'geçen': 41, 'yıl': 42, 'boyunca': 43, 'aşk': 44, 'aradım': 45, 'kaldı': 46, 'et': 47, 'hüzünlü': 48, 'artık': 49, 'giden': 50, 'hiç': 51, 'senin': 52, 'gelir': 53, 'var': 54, 'nasıl': 55, 'şimdi': 56, 'sokaklarda': 57, 'kendini': 58, 'çok': 59, 'küçük': 60, 'ihtizaz': 61, 'öğrendim': 62, 'aşkı': 63, 'gün': 64, 'i̇şte': 65, 'öyle': 66, 'gitti': 67, 'bunu': 68, 'beyaz': 69, 'tut': 70, 'bebek': 71, 'köylerde': 72, 'yüzden': 73, 'düşünürken': 74, 'taşı': 75, 'içimde': 76, 'kuş': 77, 'sıcak': 78, 'kim': 79, 'bilir': 80, 'i̇nsan': 81, 'gözlerin': 82, 'kolay': 83, 'işte': 84, 'değil': 85, 'renk': 86, 'da': 87, 'herkes': 88, 'uyusun': 89, 'olsa': 90, 'eski': 91, 'yalnız': 92, 'yere': 93, 'vardı': 94, 'yer': 95, 'durma': 96, 'kuşlar': 97, 'şarkılar': 98, 'ay': 99, 'olur': 100, 'yaklaşır': 101, 'u': 102, 'diyorsunuz': 103, 'uzaklar': 104, 'siz': 105, 'kokan': 106, 'nerde': 107, 'akşam': 108, 'aşkın': 109, 'sevdiğin': 110, 'sessizce': 111, 'kol': 112, 'siyah': 113, 'son': 114, 'bekler': 115, 'birçok': 116, 'yok': 117, 'dudakların': 118, 'ellerin': 119, 'al': 120, 'ellerimi': 121, 'yoktu': 122, 'saçlarını': 123, 'yalnızlığı': 124, 'dudaklarım': 125, 'güzelsin': 126, 'anlat': 127, 'doğduğun': 128, 'çakıl': 129, 'ısınır': 130, 'gelincik': 131, 'sinsi': 132, 'erik': 133, 'başlar': 134, 'yumak': 135, 'süt': 136, 'yanar': 137, 'gidiyorsun': 138, 'için': 139, 'çizgi': 140, 'gözbebeklerin': 141, 'tutsa': 142, 'yıksa': 143, 'eder': 144, 'mutluluk': 145, 'gitmiş': 146, 'az': 147, 'seninle': 148, 'karanfil': 149, 'düşüyor': 150, 'tıkır': 151, 'derken': 152, 'elden': 153, 'bak': 154, 'birden': 155, 'kurtar': 156, 'duran': 157, 'evleri': 158, 'otobüs': 159, 'böyle': 160, 'iyi': 161, 'biz': 162, 'bırak': 163, 'zaman': 164, 'aldım': 165, 'kapattım': 166, 'hatırlat': 167, 'yavaş': 168, 'uzaklarda': 169, 'geçiyor': 170, 'sürü': 171, 'çığlık': 172, 'serin': 173, 'cıvıl': 174, 'dolu': 175, 'gül': 176, 'olmalı': 177, 'biliyorum': 178, 'ıslak': 179, 'kalbinin': 180, 'muttarid': 181, 'muhteriz': 182, 'darbeler': 183, 'kafeslerde': 184, 'camlarda': 185, 'nevha': 186, 'ger': 187, 'saz': 188, 'hep': 189, 'şeb': 190, 'yüz': 191, 'boş': 192, 'yı': 193, 'heves': 194, 'gevherin': 195, 'katreler': 196, 'damlarda': 197, 'yâr': 198, 'usanmaz': 199, 'akar': 200, 'sular': 201, 'bi': 202, 'katında': 203, 'gözyaşlarım': 204, 'bitse': 205, 'tesbih': 206, 'tanelerim': 207, 'yorgun': 208, 'okşadım': 209, 'bile': 210, 'ister': 211, 'uzaklara': 212, 'gittim': 213, 'zehir': 214, 'nedir': 215, 'bilmezsiniz': 216, 'yüzünde': 217, 'şiir': 218, 'olmasa': 219, 'gerek': 220, 'düşünmüştüm': 221, 'hayat': 222, 'bırakmak': 223, 'kendimin': 224, 'kötü': 225, 'eyvah': 226, 'ah': 227, 'yarab': 228, 'hoyrattır': 229, 'daima': 230, 'dalga': 231, 'güzelliğiyledir': 232, 'aşığın': 233, 'yalan': 234, 'çiçekler': 235, 'ömrün': 236, 'kar': 237, 'esen': 238, 'dallar': 239, 'olsun': 240, 'unutuş': 241, 'çoktan': 242, 'yakınsın': 243, 'güneşin': 244, 'değer': 245, 'hasret': 246, 'güçlü': 247, 'hissettiğin': 248, 'budur': 249, 'adam': 250, 'çocuk': 251, 'anılar': 252, 'demir': 253, 'almak': 254, 'günü': 255, 'gelmişse': 256, 'zamandan': 257, 'meçhule': 258, 'gemi': 259, 'kalkar': 260, 'limandan': 261, 'yolcusu': 262, 'yokmuş': 263, 'alır': 264, 'yol': 265, 'sallanmaz': 266, 'kalkışta': 267, 'mendil': 268, 'rıhtımda': 269, 'kalanlar': 270, 'seyahatten': 271, 'elemli': 272, 'günlerce': 273, 'ufka': 274, 'bakar': 275, 'gözleri': 276, 'nemli': 277, 'biçare': 278, 'gönüller': 279, 'gemidir': 280, 'hicranlı': 281, 'hayatın': 282, 'matemidir': 283, 'dünyada': 284, 'sevilmiş': 285, 'seven': 286, 'nafile': 287, 'bilmez': 288, 'sevgililer': 289, 'dönmeyecekler': 290, 'gidenin': 291, 'biri': 292, 'memnun': 293, 'yerinden': 294, 'seneler': 295, 'geçti': 296, 'dönen': 297, 'seferinden': 298, 'pembe': 299, 'ceviz': 300, 'ağaçları': 301, 'serinliğe': 302, 'hasretim': 303, 'okşa': 304, 'buğday': 305, 'tarlaları': 306, 'dağıt': 307, 'savur': 308, 'köyleri': 309, 'akşamları': 310, 'eşkıyalar': 311, 'basardı': 312, 'sevmem': 313, 'konuş': 314, 'kuzey': 315, 'rüzgârları': 316, 'eserdi': 317, 'çatlaktır': 318, 'öp': 319, 'türkiye': 320, 'aydınlık': 321, 'köyler': 322, 'güzeldi': 323, 'yerleri': 324, 'yüreğimin': 325, 'ucuna': 326, 'konar': 327, 'açılır': 328, 'ansızın': 329, 'kanar': 330, 'ağacı': 331, 'tepeden': 332, 'tırnağa': 333, 'donanır': 334, 'deliler': 335, 'dönmeğe': 336, 'döndükçe': 337, 'çözülür': 338, 'çözüldükçe': 339, 'ufalır': 340, 'küçülür': 341, 'çekirdeği': 342, 'henüz': 343, 'bağlamış': 344, 'masmavi': 345, 'kesilir': 346, 'ağzımda': 347, 'dokundukça': 348, 'işine': 349, 'yetişmek': 350, 'gözlerini': 351, 'ellerini': 352, 'neyin': 353, 'varsa': 354, 'toplayıp': 355, 'seferinde': 356, 'unutuyorsun': 357, 'termometrede': 358, 'yükselen': 359, 'nerelerde': 360, 'soğuyorsun': 361, 'gülen': 362, 'insan': 363, 'bakan': 364, 'tutar': 365, 'ayakta': 366, 'yerle': 367, 'gelirse': 368, 'onlardan': 369, 'çalışma': 370, 'gücü': 371, 'yaşama': 372, 'direnci': 373, 'kazanılması': 374, 'zor': 375, 'yitirilmesi': 376, 'açarsın': 377, 'mutluyum': 378, 'kaparsın': 379, 'elimden': 380, 'biliyor': 381, 'musun': 382, 'yaşıyorsun': 383, 'oysaki': 384, 'olmak': 385, 'örneğin': 386, 'rakı': 387, 'içiyoruz': 388, 'içimize': 389, 'ağaç': 390, 'işliyor': 391, 'yanımızda': 392, 'midemdi': 393, 'aklımdı': 394, 'kadarcık': 395, 'kalıyor': 396, 'karanfile': 397, 'eğilimlisin': 398, 'alıp': 399, 'veriyorum': 400, 'başkasına': 401, 'veriyorsun': 402, 'daha': 403, 'başkası': 404, 'mu': 405, 'yanındakine': 406, 'veriyor': 407, 'ele': 408, 'görüyorsun': 409, 'sevdayı': 410, 'büyütüyoruz': 411, 'değiniyorum': 412, 'ısınıyorum': 413, 'beyaza': 414, 'keser': 415, 'gibisine': 416, 'yedi': 417, 'birleşiyoruz': 418, 'i̇kimiz': 419, 'sevinebiliriz': 420, 'kaçamak': 421, 'ışıklardan': 422, 'şeker': 423, 'kamışlarından': 424, 'bebe': 425, 'dişlerinden': 426, 'güneşlerden': 427, 'yaban': 428, 'otlarından': 429, 'durmadan': 430, 'harcadığım': 431, 'gözlerimi': 432, 'aranıp': 433, 'korkak': 434, 'atla': 435, 'bunları': 436, 'falanca': 437, 'durağa': 438, 'geliriz': 439, 'i̇necek': 440, 'deriz': 441, 'durur': 442, 'ineriz': 443, 'karanlık': 444, 'afferin': 445, 'tanrıya': 446, 'oluyor': 447, 'hoşlanıyorum': 448, 'hırsızlar': 449, 'polisler': 450, 'açlar': 451, 'toklar': 452, 'uyutmam': 453, 'birde': 454, 'uyumam': 455, 'yokken': 456, 'oluruz': 457, 'uyumıyalım': 458, 'sarhoşuz': 459, 'öpüşürüz': 460, 'ellerinde': 461, 'bilmiyorum': 462, 'tuttukca': 463, 'güçleniyorum': 464, 'kalabalık': 465, 'oluyorum': 466, 'ağaçlar': 467, 'sularım': 468, 'ısınsın': 469, 'bakıyorum': 470, 'ısınıyor': 471, 'sunturlu': 472, 'getirdim': 473, 'sayısız': 474, 'penceren': 475, 'dönesin': 476, 'biner': 477, 'gideriz': 478, 'dönmiyeceğimiz': 479, 'beğen': 480, 'başka': 481, 'türlüsü': 482, 'güç': 483, 'ellerim': 484, 'yeter': 485, 'belliyelim': 486, 'yetsin': 487, 'ayırdım': 488, 'önce': 489, 'hafiften': 490, 'rüzgar': 491, 'esiyor': 492, 'sallanıyor': 493, 'yapraklar': 494, 'ağaçlarda': 495, 'sucuların': 496, 'durmayan': 497, 'çıngırakları': 498, 'yükseklerden': 499, 'ağlar': 500, 'çekiliyor': 501, 'dalyanlarda': 502, 'kadının': 503, 'suya': 504, 'değiyor': 505, 'ayakları': 506, 'kapalıçarşı': 507, 'mahmutpaşa': 508, 'güvercin': 509, 'avlular': 510, 'çekiç': 511, 'sesleri': 512, 'geliyor': 513, 'doklardan': 514, 'güzelim': 515, 'bahar': 516, 'rüzgarında': 517, 'ter': 518, 'kokuları': 519, 'başımda': 520, 'alemlerin': 521, 'sarhoşluğu': 522, 'loş': 523, 'kayıkhaneleriyle': 524, 'yalı': 525, 'dinmiş': 526, 'lodosların': 527, 'uğultusu': 528, 'yosma': 529, 'kaldırımdan': 530, 'küfürler': 531, 'türküler': 532, 'laf': 533, 'atmalar': 534, 'birşey': 535, 'elinden': 536, 'çırpınıyor': 537, 'eteklerinde': 538, 'alnın': 539, 'doğuyor': 540, 'fıstıkların': 541, 'arkasından': 542, 'vuruşundan': 543, 'anlıyorum': 544, 'anlatabilmek': 545, 'dembedem': 546, 'nagme': 547, 'seylabeler': 548, 'ağlaşır': 549, 'ufuk': 550, 'bulutlar': 551, 'karardıkça': 552, 'zerrata': 553, 'ağır': 554, 'muhtazır': 555, 'dalgalanmak': 556, 'bürür': 557, 'soğuk': 558, 'gölge': 559, 'etrafı': 560, 'numayan': 561, 'gündüzün': 562, 'nısf': 563, 'söner': 564, 'manzur': 565, 'olurken': 566, 'demin': 567, 'hayulası': 568, 'karşımda': 569, 'alemin': 570, 'açılmaz': 571, 'pencere': 572, 'bakıldıkça': 573, 'vahşet': 574, 'çöker': 575, 'yerlere': 576, 'geçer': 577, 'sokaktan': 578, 'hayalet': 579, 'şitaban': 580, 'puşide': 581, 'ser': 582, 'sabi': 583, 'dem': 584, 'leyl': 585, 'yadımda': 586, 'solgun': 587, 'tebah': 588, 'surur': 589, 'rıda': 590, 'saçaklarda': 591, 'hazindir': 592, 'pek': 593, 'susarlar': 594, 'uzaktan': 595, 'ulur': 596, 'köpek': 597, 'öter': 598, 'guş': 599, 'ruhumda': 600, 'enin': 601, 'boğuk': 602, 'tezad': 603, 'sukun': 604, 'tanın': 605, 'muttasıl': 606, 'nağme': 607, 'candan': 608, 'usandırdı': 609, 'cefâdan': 610, 'felekler': 611, 'yandı': 612, 'âhımdan': 613, 'murâdım': 614, 'şem’i': 615, 'yanmaz': 616, 'kamu': 617, 'bîmârına': 618, 'cânan': 619, 'devâ': 620, 'derd': 621, 'ihsan': 622, 'niçin': 623, 'kılmaz': 624, 'derman': 625, 'bîmâr': 626, 'sanmaz': 627, 'hicran': 628, 'cânım': 629, 'töker': 630, 'kan': 631, 'çeşm': 632, 'giryânım': 633, 'uyarır': 634, 'halkı': 635, 'efgaanım': 636, 'kara': 637, 'bahtım': 638, 'uyanmaz': 639, 'ruhsârına': 640, 'karşu': 641, 'gözümden': 642, 'kanlı': 643, 'su': 644, 'habîbim': 645, 'fasl': 646, 'güldür': 647, 'bulanmaz': 648, 'gamım': 649, 'pinhan': 650, 'dutardım': 651, 'dediler': 652, 'yâre': 653, 'kıl': 654, 'rûşen': 655, 'disem': 656, 'ol': 657, 'vefâ': 658, 'bilmem': 659, 'inanır': 660, 'inanmaz': 661, 'değilim': 662, 'mâil': 663, 'ettin': 664, 'aklımı': 665, 'zâil': 666, 'ta’neyleyen': 667, 'gaafil': 668, 'görgeç': 669, 'utanmaz': 670, 'fuzûlî': 671, 'rind': 672, 'şeydâdır': 673, 'hemişe': 674, 'halka': 675, 'rüsvâdır': 676, 'sorun': 677, 'sevdâdır': 678, 'sevdâdan': 679, 'alt': 680, 'uyumayı': 681, 'ranzanın': 682, 'üst': 683, 'çocukluğum': 684, 'kâğıttan': 685, 'gemiler': 686, 'yaptım': 687, 'kalbimden': 688, 'hiçbiri': 689, 'karşıya': 690, 'ulaşmazdı': 691, 'limanı': 692, 'olanın': 693, 'olmaz': 694, \"allah'la\": 695, 'samimi': 696, 'oldum': 697, 'havı': 698, 'dökülmüş': 699, 'yerlerine': 700, 'yüzümün': 701, 'büyük': 702, 'yamadım': 703, 'hayır': 704, 'yüzüme': 705, 'nur': 706, 'inmedi': 707, 'yüzüm': 708, 'nura': 709, 'indi': 710, 'saydım': 711, 'insanın': 712, 'doksan': 713, 'dokuz': 714, 'tane': 715, 'istemenin': 716, 'allahını': 717, 'bilirim': 718, 'balkona': 719, 'çamaşırlar': 720, 'asmay': 721, 'uçlarından': 722, 'çile': 723, 'damlardı': 724, 'güneşte': 725, 'nane': 726, 'kurutmayı': 727, 'acılarımın': 728, 'başını': 729, 'evcimen': 730, 'telaşlarla': 731, 'pardösüm': 732, 'oldu': 733, 'kaybolduğum': 734, 'kaybolmayı': 735, 'istedim': 736, 'gelmez': 737, 'gidersin': 738, 'aşktan': 739, 'anlar': 740, 'içtim': 741, 'acım': 742, 'hafiflesin': 743, 'çikolata': 744, 'yedim': 745, 'köşeye': 746, 'çekilip': 747, 'zehrimi': 748, 'alsın': 749, 'sizin': 750, 'bilmediğiniz': 751, 'bilmeyeceğiniz': 752, 'i̇lahiler': 753, 'oysa': 754, 'miraç': 755, 'gecelerinde': 756, 'peygamberin': 757, 'kanatlarında': 758, 'teselli': 759, 'birlikte': 760, 'inebileceğim': 761, 'dost': 762, 'uyuyan': 763, 'acılı': 764, 'kardeşimin': 765, 'yüzü': 766, 'dövmeli': 767, 'kadınların': 768, 'yüzümü': 769, 'ülkem': 770, 'olmayan': 771, 'ülkemi': 772, 'kayboluşumu': 773, 'bulmak': 774, 'ters': 775, 'kazaklar': 776, 'ördüm': 777, 'haroşa': 778, 'kimi': 779, 'öylesine': 780, 'yalnızdım': 781, 'derdimi': 782, 'annemin': 783, 'fotoğrafına': 784, 'anlattım': 785, 'annem': 786, 'kadındır': 787, 'ölüsünü': 788, 'şiirle': 789, 'yıkadım': 790, 'gölgeyi': 791, 'sevmek': 792, 'demektir': 793, 'öldüğü': 794, 'gece': 795, 'terliklerindeki': 796, 'izleri': 797, 'acının': 798, 'ortasında': 799, 'acısız': 800, 'olmayı': 801, 'kalbim': 802, 'ucu': 803, 'kararmış': 804, 'tahta': 805, 'kaşık': 806, 'gibiydi': 807, 'ucunu': 808, 'kenar': 809, 'mahallelere': 810, 'taşıdım': 811, 'orda': 812, 'durun': 813, 'islak': 814, 'unutulmuş': 815, 'taş': 816, 'bezi': 817, 'kalakaldım': 818, 'ucunda': 819, 'yırtık': 820, 'perişan': 821, 'bilirsiniz': 822, 'gönlüm': 823, 'zâr': 824, 'buradaydı': 825, 'ebede': 826, 'gelip': 827, 'ezelden': 828, 'haksar': 829, 'köşede': 830, 'tarumar': 831, 'baki': 832, 'enisi': 833, 'dilden': 834, 'beyrutta': 835, 'mezar': 836, 'bildir': 837, 'attı': 838, 'derde': 839, 'arayayım': 840, 'dil': 841, 'rübayı': 842, 'kimden': 843, 'sorayım': 844, 'nevayı': 845, 'derlerki': 846, 'unut': 847, 'aşnayı': 848, 'tutarak': 849, 'reh': 850, 'bekayı': 851, 'sığsın': 852, 'hayale': 853, 'hakikat': 854, 'görsün': 855, 'mü': 856, 'gözüm': 857, 'macerayı': 858, \"sür'atle\": 859, 'nasılda': 860, 'değişti': 861, 'halim': 862, 'almaz': 863, 'havsalam': 864, 'hayalim': 865, 'çık': 866, 'fatıma': 867, 'lahteden': 868, 'kıyam': 869, 'yanımdaki': 870, 'haline': 871, 'devam': 872, 'ketn': 873, 'etme': 874, 'razı': 875, 'söz': 876, 'isterim': 877, 'birsöz': 878, 'güller': 879, 'meyl': 880, 'ibtisam': 881, 'dağı': 882, 'dile': 883, 'çare': 884, 'bul': 885, 'meram': 886, 'tatlı': 887, 'bakışla': 888, 'gülüşle': 889, 'eyyamı': 890, 'hayatımı': 891, 'temam': 892, 'makber': 893, 'gördüğüm': 894, 'reva': 895, 'cay': 896, 'dilbe': 897, 'üzerleri': 898, 'saltanatıyla': 899, 'defa': 900, 'yalnızlığımızla': 901, 'doldurup': 902, 'yeri': 903, 'çığlığı': 904, 'bahçemizden': 905, 'el': 906, 'çıkarmaya': 907, 'bohçamızdan': 908, 'lavanta': 909, 'çiçeği': 910, 'kederleri': 911, 'üstüleri': 912, 'hücum': 913, 'edip': 914, 'pişmanlıklar': 915, 'unutuşun': 916, 'tunç': 917, 'kapısını': 918, 'zorlar': 919, 'ruh': 920, 'atılan': 921, 'oklarla': 922, 'delik': 923, 'deşik': 924, 'evdesin': 925, 'yolunu': 926, 'gözlüyor': 927, 'lamba': 928, 'merdiven': 929, 'susmuş': 930, 'ninnilerle': 931, 'gıcırdıyor': 932, 'beşik': 933, 'cümle': 934, 'yitikler': 935, 'mağluplar': 936, 'mahzunlar': 937, 'söylenmemiş': 938, 'kağıtlarda': 939, 'yarım': 940, 'bırakılmış': 941, 'yağmur': 942, 'sabaha': 943, 'karşı': 944, 'hatırlar': 945, 'camı': 946, 'açtığını': 947, 'bulut': 948, 'uçtuğunu': 949, 'çöküp': 950, 'peynir': 951, 'ekmek': 952, 'yediği': 953, 'bütün': 954, 'bunlar': 955, 'aşklar': 956, 'uçup': 957, 'yazla': 958, 'halay': 959, 'çeken': 960, 'kızlar': 961, 'misali': 962, 'kola': 963, 'sizler': 964, 'geçmiş': 965, 'etekleri': 966, 'i̇htiyar': 967, 'ağaçlı': 968, 'kuytu': 969, 'bahçelerden': 970, 'ışığı': 971, 'sürüklenip': 972, 'geceye': 973, 'bırakıp': 974, 'erkekleri': 975, 'salınan': 976, 'etekler': 977, 'fısıltıyla': 978, 'nazla': 979, 'ebedi': 980, 'dönüşünü': 981, 'yeminlerin': 982, 'tanığı': 983, 'olmayacak': 984, 'baharlar': 985, 'en': 986, 'türküsü': 987, 'aldanış': 988, 'aldan': 989, 'gelmiş': 990, 'ümitsiz': 991, 'kış': 992, 'garipsi': 993, 'ayak': 994, 'izi': 995, 'dönmeyen': 996, 'serptiği': 997, 'arasında': 998, 'parıltı': 999, 'görünüp': 1000, 'kaybolan': 1001, 'istersin': 1002, 'benden': 1003, 'saatinde': 1004, 'gülüşü': 1005, 'görülmemiş': 1006, 'ölümsüzsün': 1007, 'aynasında': 1008, 'hatıraların': 1009, 'uyanma': 1010, 'vaktinde': 1011, 'sensin': 1012, 'arasından': 1013, 'kapat': 1014, 'pencereni': 1015, 'derinliğine': 1016, 'çekmiş': 1017, 'deniz': 1018, 'çıkmaz': 1019, 'altından': 1020, 'dünya': 1021, 'duman': 1022, 'yükselir': 1023, 'gibidir': 1024, 'kederden': 1025, 'macerası': 1026, 'bitmiş': 1027, 'şeylerden': 1028, 'amansız': 1029, 'gecenle': 1030, 'yayıl': 1031, 'dört': 1032, 'yanıma': 1033, 'gamlardan': 1034, 'yerin': 1035, 'çektiği': 1036, 'ağırsın': 1037, 'kanatların': 1038, 'çırpındığı': 1039, 'hafif': 1040, 'attığı': 1041, 'canlısın': 1042, 'gözlerinin': 1043, 'uzağı': 1044, 'gördüğü': 1045, 'genç': 1046, 'sevdiklerin': 1047, 'iyisin': 1048, 'nefret': 1049, 'ettiklerin': 1050, 'olursa': 1051, 'kaşın': 1052, 'gözün': 1053, 'karşındakinin': 1054, 'gördüğüdür': 1055, 'rengin': 1056, 'yaşadıklarını': 1057, 'sayma': 1058, 'yaşadığın': 1059, 'sonuna': 1060, 'yaşarsan': 1061, 'yaşa': 1062, 'kadardır': 1063, 'gülebildiğin': 1064, 'mutlusun': 1065, 'üzülme': 1066, 'bil': 1067, 'ağladığın': 1068, 'güleceksin': 1069, 'sakın': 1070, 'bitti': 1071, 'sanma': 1072, 'şeyi': 1073, 'sevileceksin': 1074, 'doğuşundadır': 1075, 'doğanın': 1076, 'verdiği': 1077, 'karşındakine': 1078, 'verdiğin': 1079, 'insansın': 1080, 'söyleyeceksen': 1081, 'eğer': 1082, 'karşındaki': 1083, 'güvendiği': 1084, 'inansın': 1085, 'ışığındadır': 1086, 'sevgiliye': 1087, 'duyulan': 1088, 'sevgiline': 1089, 'kaldığın': 1090, 'ona': 1091, 'unutma': 1092, 'yagmurun': 1093, 'yağdığı': 1094, 'ıslaksın': 1095, 'ısıttığı': 1096, 'hissetiğin': 1097, 'yalnızsın': 1098, 'yaşamak': 1099, 'hatırladığın': 1100, 'yaşarsın': 1101, 'unuttuğunda': 1102, 'aldığın': 1103, 'nefes': 1104, 'üşürsün': 1105, 'karşındakini': 1106, 'unuttuğun': 1107, 'çabuk': 1108, 'unutulursun': 1109, 'çiçek': 1110, 'sulandığı': 1111, 'güzeldir': 1112, 'ötebildiği': 1113, 'sevimli': 1114, 'ağladığı': 1115, 'bebektir': 1116, 'herşeyi': 1117, 'öğrendiğin': 1118, 'bilirsin': 1119, 'öğren': 1120, 'sevilirsin': 1121, 'durakta': 1122, 'kişi': 1123, 'adamın': 1124, 'elleri': 1125, 'ceplerinde': 1126, 'çocuğun': 1127, 'elini': 1128, 'tutmuş': 1129}\n"
     ]
    }
   ],
   "source": [
    "print(tokenizer.word_index)"
   ]
  },
  {
   "cell_type": "code",
   "execution_count": 6,
   "id": "7518e9f6",
   "metadata": {
    "scrolled": true
   },
   "outputs": [
    {
     "name": "stdout",
     "output_type": "stream",
     "text": [
      "Epoch 1/100\n",
      "46/46 [==============================] - 1s 20ms/step - loss: 6.9685 - accuracy: 0.0251\n",
      "Epoch 2/100\n",
      "46/46 [==============================] - 1s 21ms/step - loss: 6.3041 - accuracy: 0.0469\n",
      "Epoch 3/100\n",
      "46/46 [==============================] - 1s 16ms/step - loss: 5.3099 - accuracy: 0.0971\n",
      "Epoch 4/100\n",
      "46/46 [==============================] - 1s 18ms/step - loss: 3.9315 - accuracy: 0.2079\n",
      "Epoch 5/100\n",
      "46/46 [==============================] - 1s 15ms/step - loss: 2.3861 - accuracy: 0.4463\n",
      "Epoch 6/100\n",
      "46/46 [==============================] - 1s 13ms/step - loss: 1.2232 - accuracy: 0.7140\n",
      "Epoch 7/100\n",
      "46/46 [==============================] - 1s 15ms/step - loss: 0.6889 - accuracy: 0.8471\n",
      "Epoch 8/100\n",
      "46/46 [==============================] - 1s 14ms/step - loss: 0.4594 - accuracy: 0.8947\n",
      "Epoch 9/100\n",
      "46/46 [==============================] - 1s 15ms/step - loss: 0.3604 - accuracy: 0.9029\n",
      "Epoch 10/100\n",
      "46/46 [==============================] - 1s 15ms/step - loss: 0.3394 - accuracy: 0.9049\n",
      "Epoch 11/100\n",
      "46/46 [==============================] - 1s 15ms/step - loss: 0.3014 - accuracy: 0.9069\n",
      "Epoch 12/100\n",
      "46/46 [==============================] - 1s 15ms/step - loss: 0.2904 - accuracy: 0.9029\n",
      "Epoch 13/100\n",
      "46/46 [==============================] - 1s 15ms/step - loss: 0.2664 - accuracy: 0.9076\n",
      "Epoch 14/100\n",
      "46/46 [==============================] - 1s 15ms/step - loss: 0.2685 - accuracy: 0.9083\n",
      "Epoch 15/100\n",
      "46/46 [==============================] - 1s 16ms/step - loss: 0.2638 - accuracy: 0.9049\n",
      "Epoch 16/100\n",
      "46/46 [==============================] - 1s 16ms/step - loss: 0.2507 - accuracy: 0.9083\n",
      "Epoch 17/100\n",
      "46/46 [==============================] - 1s 15ms/step - loss: 0.2504 - accuracy: 0.9117\n",
      "Epoch 18/100\n",
      "46/46 [==============================] - 1s 15ms/step - loss: 0.2411 - accuracy: 0.9103\n",
      "Epoch 19/100\n",
      "46/46 [==============================] - 1s 16ms/step - loss: 0.2416 - accuracy: 0.9090\n",
      "Epoch 20/100\n",
      "46/46 [==============================] - 1s 17ms/step - loss: 0.2385 - accuracy: 0.9083\n",
      "Epoch 21/100\n",
      "46/46 [==============================] - 1s 14ms/step - loss: 0.2387 - accuracy: 0.9069\n",
      "Epoch 22/100\n",
      "46/46 [==============================] - 1s 15ms/step - loss: 0.2312 - accuracy: 0.9049\n",
      "Epoch 23/100\n",
      "46/46 [==============================] - 1s 16ms/step - loss: 0.2288 - accuracy: 0.9022\n",
      "Epoch 24/100\n",
      "46/46 [==============================] - 1s 16ms/step - loss: 0.2297 - accuracy: 0.9096\n",
      "Epoch 25/100\n",
      "46/46 [==============================] - 1s 17ms/step - loss: 0.2227 - accuracy: 0.9076\n",
      "Epoch 26/100\n",
      "46/46 [==============================] - 1s 21ms/step - loss: 0.2279 - accuracy: 0.9096\n",
      "Epoch 27/100\n",
      "46/46 [==============================] - 1s 17ms/step - loss: 0.2265 - accuracy: 0.9096\n",
      "Epoch 28/100\n",
      "46/46 [==============================] - 1s 22ms/step - loss: 0.2212 - accuracy: 0.9076\n",
      "Epoch 29/100\n",
      "46/46 [==============================] - 1s 17ms/step - loss: 0.2214 - accuracy: 0.9076\n",
      "Epoch 30/100\n",
      "46/46 [==============================] - 1s 15ms/step - loss: 0.2172 - accuracy: 0.9062\n",
      "Epoch 31/100\n",
      "46/46 [==============================] - 1s 16ms/step - loss: 0.2173 - accuracy: 0.9062\n",
      "Epoch 32/100\n",
      "46/46 [==============================] - 1s 18ms/step - loss: 0.2157 - accuracy: 0.9090\n",
      "Epoch 33/100\n",
      "46/46 [==============================] - 1s 19ms/step - loss: 0.2200 - accuracy: 0.9069\n",
      "Epoch 34/100\n",
      "46/46 [==============================] - 1s 20ms/step - loss: 0.2181 - accuracy: 0.9083\n",
      "Epoch 35/100\n",
      "46/46 [==============================] - 1s 18ms/step - loss: 0.2187 - accuracy: 0.9124\n",
      "Epoch 36/100\n",
      "46/46 [==============================] - 1s 17ms/step - loss: 0.2163 - accuracy: 0.9124\n",
      "Epoch 37/100\n",
      "46/46 [==============================] - 1s 18ms/step - loss: 0.2203 - accuracy: 0.9103\n",
      "Epoch 38/100\n",
      "46/46 [==============================] - 1s 20ms/step - loss: 0.2176 - accuracy: 0.9110\n",
      "Epoch 39/100\n",
      "46/46 [==============================] - 1s 19ms/step - loss: 0.2184 - accuracy: 0.9076\n",
      "Epoch 40/100\n",
      "46/46 [==============================] - 1s 19ms/step - loss: 0.2123 - accuracy: 0.9049\n",
      "Epoch 41/100\n",
      "46/46 [==============================] - 1s 16ms/step - loss: 0.2099 - accuracy: 0.9103\n",
      "Epoch 42/100\n",
      "46/46 [==============================] - 1s 15ms/step - loss: 0.2088 - accuracy: 0.9096\n",
      "Epoch 43/100\n",
      "46/46 [==============================] - 1s 15ms/step - loss: 0.2118 - accuracy: 0.9035\n",
      "Epoch 44/100\n",
      "46/46 [==============================] - 1s 16ms/step - loss: 0.2075 - accuracy: 0.9022\n",
      "Epoch 45/100\n",
      "46/46 [==============================] - 1s 15ms/step - loss: 0.2051 - accuracy: 0.9103\n",
      "Epoch 46/100\n",
      "46/46 [==============================] - 1s 19ms/step - loss: 0.2073 - accuracy: 0.9090 0s - loss: 0.1826 - \n",
      "Epoch 47/100\n",
      "46/46 [==============================] - 1s 18ms/step - loss: 0.2085 - accuracy: 0.9001\n",
      "Epoch 48/100\n",
      "46/46 [==============================] - 1s 20ms/step - loss: 0.2088 - accuracy: 0.9069\n",
      "Epoch 49/100\n",
      "46/46 [==============================] - 1s 18ms/step - loss: 0.2087 - accuracy: 0.9062\n",
      "Epoch 50/100\n",
      "46/46 [==============================] - 1s 22ms/step - loss: 0.2116 - accuracy: 0.9076\n",
      "Epoch 51/100\n",
      "46/46 [==============================] - 1s 18ms/step - loss: 0.2447 - accuracy: 0.8974\n",
      "Epoch 52/100\n",
      "46/46 [==============================] - 1s 16ms/step - loss: 0.8266 - accuracy: 0.7500\n",
      "Epoch 53/100\n",
      "46/46 [==============================] - 1s 15ms/step - loss: 2.3020 - accuracy: 0.4545\n",
      "Epoch 54/100\n",
      "46/46 [==============================] - 1s 16ms/step - loss: 1.5185 - accuracy: 0.6162\n",
      "Epoch 55/100\n",
      "46/46 [==============================] - 1s 16ms/step - loss: 0.6445 - accuracy: 0.8295\n",
      "Epoch 56/100\n",
      "46/46 [==============================] - 1s 15ms/step - loss: 0.3550 - accuracy: 0.8927\n",
      "Epoch 57/100\n",
      "46/46 [==============================] - 1s 15ms/step - loss: 0.2966 - accuracy: 0.9008\n",
      "Epoch 58/100\n",
      "46/46 [==============================] - 1s 15ms/step - loss: 0.2543 - accuracy: 0.9029\n",
      "Epoch 59/100\n",
      "46/46 [==============================] - 1s 15ms/step - loss: 0.2370 - accuracy: 0.9110\n",
      "Epoch 60/100\n",
      "46/46 [==============================] - 1s 15ms/step - loss: 0.2298 - accuracy: 0.9096\n",
      "Epoch 61/100\n",
      "46/46 [==============================] - 1s 14ms/step - loss: 0.2289 - accuracy: 0.9056\n",
      "Epoch 62/100\n",
      "46/46 [==============================] - 1s 14ms/step - loss: 0.2237 - accuracy: 0.9103\n",
      "Epoch 63/100\n",
      "46/46 [==============================] - 1s 15ms/step - loss: 0.2199 - accuracy: 0.9117\n",
      "Epoch 64/100\n",
      "46/46 [==============================] - 1s 15ms/step - loss: 0.2198 - accuracy: 0.9042\n",
      "Epoch 65/100\n",
      "46/46 [==============================] - 1s 14ms/step - loss: 0.2165 - accuracy: 0.9103\n",
      "Epoch 66/100\n",
      "46/46 [==============================] - 1s 15ms/step - loss: 0.2119 - accuracy: 0.9049\n",
      "Epoch 67/100\n",
      "46/46 [==============================] - 1s 14ms/step - loss: 0.2121 - accuracy: 0.9096\n",
      "Epoch 68/100\n",
      "46/46 [==============================] - 1s 14ms/step - loss: 0.2132 - accuracy: 0.9083\n",
      "Epoch 69/100\n",
      "46/46 [==============================] - 1s 14ms/step - loss: 0.2106 - accuracy: 0.9137\n",
      "Epoch 70/100\n",
      "46/46 [==============================] - 1s 14ms/step - loss: 0.2101 - accuracy: 0.9069\n",
      "Epoch 71/100\n",
      "46/46 [==============================] - 1s 15ms/step - loss: 0.2115 - accuracy: 0.9076\n",
      "Epoch 72/100\n",
      "46/46 [==============================] - 1s 16ms/step - loss: 0.2099 - accuracy: 0.9083\n",
      "Epoch 73/100\n",
      "46/46 [==============================] - 1s 17ms/step - loss: 0.2016 - accuracy: 0.9096\n",
      "Epoch 74/100\n",
      "46/46 [==============================] - 1s 16ms/step - loss: 0.2055 - accuracy: 0.9049\n",
      "Epoch 75/100\n",
      "46/46 [==============================] - 1s 15ms/step - loss: 0.2034 - accuracy: 0.9103\n",
      "Epoch 76/100\n",
      "46/46 [==============================] - 1s 16ms/step - loss: 0.2076 - accuracy: 0.9110\n",
      "Epoch 77/100\n",
      "46/46 [==============================] - 1s 19ms/step - loss: 0.2015 - accuracy: 0.9096\n",
      "Epoch 78/100\n",
      "46/46 [==============================] - 1s 18ms/step - loss: 0.2083 - accuracy: 0.9062\n",
      "Epoch 79/100\n",
      "46/46 [==============================] - 1s 21ms/step - loss: 0.2031 - accuracy: 0.9083\n",
      "Epoch 80/100\n",
      "46/46 [==============================] - 1s 19ms/step - loss: 0.2023 - accuracy: 0.9117\n",
      "Epoch 81/100\n",
      "46/46 [==============================] - 1s 19ms/step - loss: 0.2020 - accuracy: 0.9137\n"
     ]
    },
    {
     "name": "stdout",
     "output_type": "stream",
     "text": [
      "Epoch 82/100\n",
      "46/46 [==============================] - 1s 19ms/step - loss: 0.2023 - accuracy: 0.9076\n",
      "Epoch 83/100\n",
      "46/46 [==============================] - 1s 16ms/step - loss: 0.1990 - accuracy: 0.9096\n",
      "Epoch 84/100\n",
      "46/46 [==============================] - 1s 14ms/step - loss: 0.2016 - accuracy: 0.9049\n",
      "Epoch 85/100\n",
      "46/46 [==============================] - 1s 14ms/step - loss: 0.1995 - accuracy: 0.9090\n",
      "Epoch 86/100\n",
      "46/46 [==============================] - 1s 14ms/step - loss: 0.1969 - accuracy: 0.9117\n",
      "Epoch 87/100\n",
      "46/46 [==============================] - 1s 14ms/step - loss: 0.1955 - accuracy: 0.9110\n",
      "Epoch 88/100\n",
      "46/46 [==============================] - 1s 13ms/step - loss: 0.1964 - accuracy: 0.9103\n",
      "Epoch 89/100\n",
      "46/46 [==============================] - 1s 14ms/step - loss: 0.1968 - accuracy: 0.9103\n",
      "Epoch 90/100\n",
      "46/46 [==============================] - 1s 14ms/step - loss: 0.1996 - accuracy: 0.9035\n",
      "Epoch 91/100\n",
      "46/46 [==============================] - 1s 13ms/step - loss: 0.1945 - accuracy: 0.9096\n",
      "Epoch 92/100\n",
      "46/46 [==============================] - 1s 14ms/step - loss: 0.1963 - accuracy: 0.9103\n",
      "Epoch 93/100\n",
      "46/46 [==============================] - 1s 14ms/step - loss: 0.1954 - accuracy: 0.9103\n",
      "Epoch 94/100\n",
      "46/46 [==============================] - 1s 15ms/step - loss: 0.1945 - accuracy: 0.9130\n",
      "Epoch 95/100\n",
      "46/46 [==============================] - 1s 14ms/step - loss: 0.1947 - accuracy: 0.9056\n",
      "Epoch 96/100\n",
      "46/46 [==============================] - 1s 15ms/step - loss: 0.1970 - accuracy: 0.9069\n",
      "Epoch 97/100\n",
      "46/46 [==============================] - 1s 14ms/step - loss: 0.1943 - accuracy: 0.9151\n",
      "Epoch 98/100\n",
      "46/46 [==============================] - 1s 14ms/step - loss: 0.1942 - accuracy: 0.9069\n",
      "Epoch 99/100\n",
      "46/46 [==============================] - 1s 14ms/step - loss: 0.1943 - accuracy: 0.9117\n",
      "Epoch 100/100\n",
      "46/46 [==============================] - 1s 13ms/step - loss: 0.1966 - accuracy: 0.9042\n",
      "<tensorflow.python.keras.engine.sequential.Sequential object at 0x000002288512F9D0>\n"
     ]
    }
   ],
   "source": [
    "model = Sequential()\n",
    "model.add(Embedding(total_words, 100, input_length=max_sequence_len-1))\n",
    "model.add(Bidirectional(LSTM(150)))\n",
    "model.add(Dense(total_words, activation='softmax'))\n",
    "adam = Adam(lr=0.01)\n",
    "model.compile(loss='categorical_crossentropy', optimizer=adam, metrics=['accuracy'])\n",
    "#earlystop = EarlyStopping(monitor='val_loss', min_delta=0, patience=5, verbose=0, mode='auto')\n",
    "history = model.fit(xs, ys, epochs=100, verbose=1)\n",
    "#print model.summary()\n",
    "print(model)\n"
   ]
  },
  {
   "cell_type": "code",
   "execution_count": 7,
   "id": "47cd98e3",
   "metadata": {},
   "outputs": [],
   "source": [
    "import matplotlib.pyplot as plt\n",
    "\n",
    "\n",
    "def plot_graphs(history, string):\n",
    "  plt.plot(history.history[string])\n",
    "  plt.xlabel(\"Epochs\")\n",
    "  plt.ylabel(string)\n",
    "  plt.show()"
   ]
  },
  {
   "cell_type": "code",
   "execution_count": 8,
   "id": "6edc241b",
   "metadata": {},
   "outputs": [
    {
     "data": {
      "image/png": "[encoded data removed]",
      "text/plain": [
       "<Figure size 640x480 with 1 Axes>"
      ]
     },
     "metadata": {},
     "output_type": "display_data"
    }
   ],
   "source": [
    "plot_graphs(history, 'accuracy')"
   ]
  },
  {
   "cell_type": "code",
   "execution_count": 9,
   "id": "3574106b",
   "metadata": {},
   "outputs": [
    {
     "name": "stdout",
     "output_type": "stream",
     "text": [
      "WARNING:tensorflow:From <ipython-input-9-74c6e06d6aeb>:7: Sequential.predict_classes (from tensorflow.python.keras.engine.sequential) is deprecated and will be removed after 2021-01-01.\n",
      "Instructions for updating:\n",
      "Please use instead:* `np.argmax(model.predict(x), axis=-1)`,   if your model does multi-class classification   (e.g. if it uses a `softmax` last-layer activation).* `(model.predict(x) > 0.5).astype(\"int32\")`,   if your model does binary classification   (e.g. if it uses a `sigmoid` last-layer activation).\n",
      "Hayat yeterince zor değil mi? bir köşeye çekilip taş bezi gibi kol giryânım giryânım yanımızda arasından kol bırakıp mı arasından kol mı mı çeşm i giryânım giryânım kol bayım düşünmüştüm kol giryânım kol kamışlarından mı mı arasından işte kol esen ihsan eder mı giryânım nemli nemli yanımızda nemli giryânım mı inanmaz mı mı yerinden mı çeşm düşünmüştüm giryânım giryânım mı giryânım kol düşünmüştüm kol mı mı çeşm bayım giryânım mı mı çeşm i giryânım kol giryânım rûşen rûşen kol kol ihsan giryânım kol mı dallar arasından bayım giryânım kol mı mı düşünmüştüm kol bayım mı inanmaz mı inanmaz mı mı arasından yerinden düşünmüştüm akar mı\n"
     ]
    }
   ],
   "source": [
    "seed_text = \"Hayat yeterince zor değil mi?\"\n",
    "next_words = 100\n",
    "  \n",
    "for _ in range(next_words):\n",
    "    token_list = tokenizer.texts_to_sequences([seed_text])[0]\n",
    "    token_list = pad_sequences([token_list], maxlen=max_sequence_len-1, padding='pre')\n",
    "    predicted = model.predict_classes(token_list, verbose=0)\n",
    "    output_word = \"\"\n",
    "    for word, index in tokenizer.word_index.items():\n",
    "        if index == predicted:\n",
    "            output_word = word\n",
    "            break\n",
    "    seed_text += \" \" + output_word\n",
    "print(seed_text)"
   ]
  },
  {
   "cell_type": "code",
   "execution_count": null,
   "id": "e47d15d4",
   "metadata": {},
   "outputs": [],
   "source": []
  }
 ],
 "metadata": {
  "kernelspec": {
   "display_name": "Python 3",
   "language": "python",
   "name": "python3"
  },
  "language_info": {
   "codemirror_mode": {
    "name": "ipython",
    "version": 3
   },
   "file_extension": ".py",
   "mimetype": "text/x-python",
   "name": "python",
   "nbconvert_exporter": "python",
   "pygments_lexer": "ipython3",
   "version": "3.8.11"
  }
 },
 "nbformat": 4,
 "nbformat_minor": 5
}
